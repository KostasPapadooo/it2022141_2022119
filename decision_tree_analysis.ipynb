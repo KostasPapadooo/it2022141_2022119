{
 "cells": [
  {
   "cell_type": "markdown",
   "metadata": {},
   "source": [
    "# Ανάλυση Απόφασης Επένδυσης για το Γυμναστήριο FitFlex\n",
    "\n",
    "## Επιχειρηματικό Σενάριο\n",
    "\n",
    "Το \"FitFlex\" είναι ένα καθιερωμένο γυμναστήριο που αντιμετωπίζει αυξανόμενο ανταγωνισμό στην περιοχή του. Για να διατηρήσει το ανταγωνιστικό του πλεονέκτημα, η διοίκηση εξετάζει τρεις στρατηγικές επιλογές:\n",
    "\n",
    "1. **Στρατηγική Α: Πλήρης Ανακαίνιση & Νέος Εξοπλισμός**\n",
    "   - Κόστος Επένδυσης: €150.000\n",
    "   - Περιλαμβάνει: Ριζική ανακαίνιση και αγορά σύγχρονων μηχανημάτων\n",
    "\n",
    "2. **Στρατηγική Β: Δημιουργία Χώρου Εξειδικευμένων Μαθημάτων**\n",
    "   - Κόστος Επένδυσης: €70.000\n",
    "   - Περιλαμβάνει: Μετατροπή αποθήκης σε χώρο για Hot Yoga και Pilates Reformer\n",
    "\n",
    "3. **Στρατηγική Γ: Καμία Ενέργεια**\n",
    "   - Κόστος Επένδυσης: €0\n",
    "   - Διατήρηση υπάρχουσας κατάστασης"
   ]
  },
  {
   "cell_type": "code",
   "execution_count": null,
   "metadata": {},
   "outputs": [],
   "source": [
    "# Εισαγωγή απαραίτητων βιβλιοθηκών\n",
    "import numpy as np\n",
    "import matplotlib.pyplot as plt\n",
    "import seaborn as sns\n",
    "import graphviz\n",
    "\n",
    "# Ρύθμιση για καλύτερη εμφάνιση των γραφημάτων\n",
    "plt.style.use('seaborn')\n",
    "sns.set_theme(style=\"whitegrid\")\n",
    "\n",
    "# Ρύθμιση για εμφάνιση ελληνικών χαρακτήρων\n",
    "plt.rcParams['font.family'] = 'DejaVu Sans'\n",
    "\n",
    "print(\"Οι βιβλιοθήκες φορτώθηκαν επιτυχώς!\")"
   ]
  },
  {
   "cell_type": "markdown",
   "metadata": {},
   "source": [
    "## Δημιουργία Δέντρου Απόφασης\n",
    "\n",
    "Θα χρησιμοποιήσουμε τη βιβλιοθήκη graphviz για να οπτικοποιήσουμε το δέντρο απόφασης. Το δέντρο θα περιλαμβάνει:\n",
    "1. Τις τρεις στρατηγικές επιλογές\n",
    "2. Τα πιθανά σενάρια ζήτησης για κάθε επιλογή\n",
    "3. Τα αναμενόμενα κέρδη/ζημίες για κάθε συνδυασμό"
   ]
  },
  {
   "cell_type": "code",
   "execution_count": 1,
   "metadata": {},
   "outputs": [
    {
     "ename": "NameError",
     "evalue": "name 'graphviz' is not defined",
     "output_type": "error",
     "traceback": [
      "\u001b[31m---------------------------------------------------------------------------\u001b[39m",
      "\u001b[31mNameError\u001b[39m                                 Traceback (most recent call last)",
      "\u001b[36mCell\u001b[39m\u001b[36m \u001b[39m\u001b[32mIn[1]\u001b[39m\u001b[32m, line 2\u001b[39m\n\u001b[32m      1\u001b[39m \u001b[38;5;66;03m# Δημιουργία του δέντρου απόφασης\u001b[39;00m\n\u001b[32m----> \u001b[39m\u001b[32m2\u001b[39m dot = \u001b[43mgraphviz\u001b[49m.Digraph(comment=\u001b[33m'\u001b[39m\u001b[33mΔέντρο Απόφασης FitFlex\u001b[39m\u001b[33m'\u001b[39m)\n\u001b[32m      3\u001b[39m dot.attr(rankdir=\u001b[33m'\u001b[39m\u001b[33mLR\u001b[39m\u001b[33m'\u001b[39m)\n\u001b[32m      5\u001b[39m \u001b[38;5;66;03m# Κόμβος απόφασης\u001b[39;00m\n",
      "\u001b[31mNameError\u001b[39m: name 'graphviz' is not defined"
     ]
    }
   ],
   "source": [
    "# Δημιουργία του δέντρου απόφασης\n",
    "dot = graphviz.Digraph(comment='Δέντρο Απόφασης FitFlex')\n",
    "dot.attr(rankdir='LR')\n",
    "\n",
    "# Κόμβος απόφασης\n",
    "dot.node('D1', 'Επιλογή\\nΣτρατηγικής', shape='square')\n",
    "\n",
    "# Κόμβοι πιθανοτήτων για κάθε στρατηγική\n",
    "dot.node('C1', 'Στρατηγική Α\\n€150.000', shape='circle')\n",
    "dot.node('C2', 'Στρατηγική Β\\n€70.000', shape='circle')\n",
    "dot.node('C3', 'Στρατηγική Γ\\n€0', shape='circle')\n",
    "\n",
    "# Σύνδεση κόμβων\n",
    "dot.edge('D1', 'C1', 'Πλήρης\\nΑνακαίνιση')\n",
    "dot.edge('D1', 'C2', 'Νέος\\nΧώρος')\n",
    "dot.edge('D1', 'C3', 'Καμία\\nΕνέργεια')\n",
    "\n",
    "# Εμφάνιση του δέντρου\n",
    "dot"
   ]
  },
  {
   "cell_type": "code",
   "execution_count": null,
   "metadata": {},
   "outputs": [],
   "source": []
  }
 ],
 "metadata": {
  "kernelspec": {
   "display_name": "venv",
   "language": "python",
   "name": "python3"
  },
  "language_info": {
   "codemirror_mode": {
    "name": "ipython",
    "version": 3
   },
   "file_extension": ".py",
   "mimetype": "text/x-python",
   "name": "python",
   "nbconvert_exporter": "python",
   "pygments_lexer": "ipython3",
   "version": "3.12.7"
  }
 },
 "nbformat": 4,
 "nbformat_minor": 4
}
